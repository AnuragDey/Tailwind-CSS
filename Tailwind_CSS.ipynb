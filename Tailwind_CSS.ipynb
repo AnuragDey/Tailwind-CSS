{
  "nbformat": 4,
  "nbformat_minor": 0,
  "metadata": {
    "colab": {
      "provenance": []
    },
    "kernelspec": {
      "name": "python3",
      "display_name": "Python 3"
    },
    "language_info": {
      "name": "python"
    }
  },
  "cells": [
    {
      "cell_type": "markdown",
      "source": [
        "# Tailwind CSS"
      ],
      "metadata": {
        "id": "HdEcBHy-4Nrm"
      }
    },
    {
      "cell_type": "code",
      "source": [
        "# 1. Create a User login page interface that closely resembles the provided image using Tailwind CSS. The goal is to ensure that your implementation captures every visual detail and layout aspect depicted in the image while maintaining a full mobile responsiveness.\n",
        "<!doctype html>\n",
        "<html>\n",
        "<head>\n",
        "  <meta charset=\"UTF-8\">\n",
        "  <meta name=\"viewport\" content=\"width=device-width, initial-scale=1.0\">\n",
        "  <link href=\"/src/style.css\" rel=\"stylesheet\">\n",
        "</head>\n",
        "<body class=\"bg-light-500\">\n",
        "  <div class=\"flex justify-center\">\n",
        "    <div class=\"flex flex-col items-center w-full sm:w-4/5 h-full p-8 mr-20\">\n",
        "      <h2 class=\"text-2xl font-bold text-gray-800 text-center\">\n",
        "        Login\n",
        "      </h2>\n",
        "      <p class=\"text-gray-600 text-center mt-4 mb-6\">Enter your credential to access your account</p>\n",
        "      <button class=\"w-full sm:w-3/4 p-3 flex items-center justify-center border border-gray-300 text-gray-700 rounded-lg py-2 mb-4 hover:bg-gray-50\">\n",
        "        <img class=\"h-5 w-5 mr-2\" src=\"https://www.gstatic.com/marketing-cms/assets/images/d5/dc/cfe9ce8b4425b410b49b7f2dd3f3/g.webp=s48-fcrop64=1,00000000ffffffff-rw\">\n",
        "        Login with Google\n",
        "      </button>\n",
        "\n",
        "      <div class=\"flex items-center my-4 w-full\">\n",
        "        <hr class=\"flex-grow border-t border-gray-300\" />\n",
        "        <span class=\"mx-4 text-gray-500\">Or</span>\n",
        "        <hr class=\"flex-grow border-t border-gray-300\" />\n",
        "      </div>\n",
        "\n",
        "      <form action=\"#\" method=\"POST\" class=\"space-y-4\">\n",
        "        <div>\n",
        "          <label for=\"email\" class=\"w-full text-sm font-medium text-gray-700\">Email Address</label>\n",
        "          <input type=\"email\" name=\"email\" id=\"email\" placeholder=\"email@gmail.com\" class=\"mt-1 w-full px-3 py-2 border border-gray-300 rounded-md placeholder-gray-400\">\n",
        "        </div>\n",
        "\n",
        "        <div>\n",
        "          <div class=\"flex justify-between items-center\">\n",
        "            <label for=\"password\" class=\"text-sm font-medium text-gray-700\">Password</label>\n",
        "            <a href=\"#\" class=\"text-sm font-medium text-indigo-600 hover:text-indigo-500\">Forgot Password?</a>\n",
        "          </div>\n",
        "          <input type=\"password\" name=\"password\" id=\"password\" placeholder=\"Password\" class=\"mt-1 w-full px-3 py-2 border border-gray-300 rounded-md placeholder-gray-400\">\n",
        "        </div>\n",
        "        <button type=\"submit\" class=\"w-full flex justify-center py-2 px-4 border border-transparent rounded-md shadow-sm text-sm font-medium text-white bg-indigo-600 hover:bg-indigo-700\">Login</button>\n",
        "      </form>\n",
        "      <div class=\"flex items-center my-4\">\n",
        "        <span class=\"mx-2 text-gray-500\">Don't have an account?</span>\n",
        "        <a href=\"#\" class=\"text-sm text-black\">Register here</a>\n",
        "      </div>\n",
        "    </div>\n",
        "    <div class=\"hidden lg:flex lg:h-lvh lg:items-center lg:justify-center lg: bg-gray-50\">\n",
        "      <img class=\"mb-0 pb-0 mr-0 pr-0 mt-20\" src=\"young-girl-with-short-hair-wearing-white-polo-shirt-looking-camera-with-serious-face-pointing-with-index-finger-up.png\">\n",
        "    </div>\n",
        "</body>\n",
        "</html>"
      ],
      "metadata": {
        "id": "jALmY6G0IFhs"
      },
      "execution_count": null,
      "outputs": []
    },
    {
      "cell_type": "code",
      "source": [
        "@import \"tailwindcss\";\n"
      ],
      "metadata": {
        "id": "4UJZW_nVIOJ2"
      },
      "execution_count": null,
      "outputs": []
    },
    {
      "cell_type": "code",
      "source": [
        "# 2. Create a responsive image gallery using Tailwind CSS. The gallery should display a grid of images that adjust their size and layout based on the screen size.\n",
        "<!doctype html>\n",
        "<html>\n",
        "<head>\n",
        "  <meta charset=\"UTF-8\">\n",
        "  <meta name=\"viewport\" content=\"width=device-width, initial-scale=1.0\">\n",
        "  <title>Image Gallery</title>\n",
        "  <link href=\"/src/style.css\" rel=\"stylesheet\">\n",
        "</head>\n",
        "<body class=\"bg-gray-100\">\n",
        "  <div class=\"flex flex-col sm:flex-row justify-between xl:justify-center px-4 py-5 border-t border-t-gray-300\">\n",
        "    <img class=\"h-[600px] w-[400px] mr-0 mb-3 sm:mr-3\" src=\"serious-woman-pointing-with-her-finger.jpg\">\n",
        "    <img class=\"h-[600px] w-[400px] mr-0 mb-3 sm:mr-3\" src=\"serious-woman-pointing-with-her-finger.jpg\">\n",
        "    <img class=\"h-[600px] w-[400px]\" src=\"serious-woman-pointing-with-her-finger.jpg\">\n",
        "  </div>\n",
        "</body>\n",
        "</html>"
      ],
      "metadata": {
        "id": "ua-p4CfUI-GE"
      },
      "execution_count": null,
      "outputs": []
    },
    {
      "cell_type": "code",
      "source": [
        "@import \"tailwindcss\";"
      ],
      "metadata": {
        "id": "J-iJ25z6JPYD"
      },
      "execution_count": null,
      "outputs": []
    },
    {
      "cell_type": "code",
      "source": [
        "# 3. Create a non-responsive dashboard using Tailwind CSS, where the dashboard should include a sidebar navigation menu and a main contain area. (Making it responsive is optional).\n",
        "<!doctype html>\n",
        "<html>\n",
        "<head>\n",
        "  <meta charset=\"UTF-8\">\n",
        "  <meta name=\"viewport\" content=\"width=device-width, initial-scale=1.0\">\n",
        "  <link href=\"/src/style.css\" rel=\"stylesheet\">\n",
        "</head>\n",
        "<body class=\"bg-gray-300\">\n",
        "  <div class=\"flex\">\n",
        "    <div class=\"w-70 h-lvh text-center bg-blue-900\">\n",
        "      <div>\n",
        "        <h2 class=\"text-xl bg-blue-900 text-white pt-2\">Dashboard</h2>\n",
        "      </div>\n",
        "      <div class=\"flex flex-col justify-center items-start pl-2 bg-blue-900\">\n",
        "        <div class=\"flex bg-blue-900 hover:bg-blue-500 mt-2 mb-2\">\n",
        "          <img class=\"h-8 w-8 pr-2\" src=\"pie_6219499.png\">\n",
        "          <a class=\"text-white\" href=\"#\">Dashboard</a>\n",
        "        </div>\n",
        "        <div class=\"flex bg-blue-900 hover:bg-blue-500 mt-2 mb-2\">\n",
        "          <img class=\"h-8 w-8 pr-2\" src=\"teamwork_9016192.png\">\n",
        "          <a class=\"text-white\" href=\"#\">Team</a>\n",
        "        </div>\n",
        "        <div class=\"flex bg-blue-900 hover:bg-blue-500 mt-2 mb-2\">\n",
        "          <img class=\"h-8 w-8 pr-2\" src=\"folder_4558235.png\">\n",
        "          <a class=\"text-white\" href=\"#\">Projects</a>\n",
        "        </div>\n",
        "        <div class=\"flex bg-blue-900 hover:bg-blue-500 mt-2 mb-2\">\n",
        "          <img class=\"h-8 w-8 pr-2\" src=\"calendar.png\">\n",
        "          <a class=\"text-white\" href=\"#\">Calendar</a>\n",
        "        </div>\n",
        "        <div class=\"flex bg-blue-900 hover:bg-blue-500 mt-2 mb-2\">\n",
        "          <img class=\"h-8 w-8 pr-2\" src=\"documents-symbol.png\">\n",
        "          <a class=\"text-white\" href=\"#\">Documents</a>\n",
        "        </div>\n",
        "        <div class=\"flex bg-blue-900 hover:bg-blue-500 mt-2 mb-2\">\n",
        "          <img class=\"h-8 w-8 pr-2\" src=\"report.png\">\n",
        "          <a class=\"text-white\" href=\"#\">Reports</a>\n",
        "        </div>\n",
        "      </div>\n",
        "      <div class=\"flex flex-col justify-center items-start pl-2 bg-blue-900 mt-35\">\n",
        "        <span class=\"text-white\">Your Teams</span>\n",
        "        <div class=\"flex bg-blue-900 hover:bg-blue-500 mt-2 mb-2\">\n",
        "          <img class=\"h-8 w-8 pr-2\" src=\"teamwork_9016192.png\">\n",
        "          <a class=\"text-white\" href=\"#\">PW Skills</a>\n",
        "        </div>\n",
        "        <div class=\"flex bg-blue-900 hover:bg-blue-500 mt-2 mb-2\">\n",
        "          <img class=\"h-8 w-8 pr-2\" src=\"teamwork_9016192.png\">\n",
        "          <a class=\"text-white\" href=\"#\">PW Labs</a>\n",
        "        </div>\n",
        "        <div class=\"flex bg-blue-900 hover:bg-blue-500 mt-2 mb-2\">\n",
        "          <img class=\"h-8 w-8 pr-2\" src=\"teamwork_9016192.png\">\n",
        "          <a class=\"text-white\" href=\"#\">PW - IOI</a>\n",
        "        </div>\n",
        "      </div>\n",
        "    </div>\n",
        "    <div class=\"flex justify-between items-center w-[1050px] h-10 bg-white mt-2 ml-2 px-2\">\n",
        "      <div class=\"flex items-center space-x-2\">\n",
        "        <img class=\"h-8 w-8\" src=\"profile-user.png\" alt=\"Profile\">\n",
        "        <span class=\"text-xl\">Profile</span>\n",
        "      </div>\n",
        "\n",
        "      <div class=\"flex items-center space-x-2\">\n",
        "        <img class=\"h-8 w-8\" src=\"search-interface-symbol.png\" alt=\"Search\">\n",
        "        <img class=\"h-8 w-8\" src=\"bell.png\" alt=\"Notifications\">\n",
        "      </div>\n",
        "    </div>\n",
        "  </div>\n",
        "</body>\n",
        "</html>"
      ],
      "metadata": {
        "id": "tRdIb6TZJsVJ"
      },
      "execution_count": null,
      "outputs": []
    },
    {
      "cell_type": "code",
      "source": [
        "@import \"tailwindcss\";"
      ],
      "metadata": {
        "id": "rX2Ogy0hJzEQ"
      },
      "execution_count": null,
      "outputs": []
    }
  ]
}